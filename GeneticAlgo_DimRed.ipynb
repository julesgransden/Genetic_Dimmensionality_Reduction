{
 "cells": [
  {
   "cell_type": "code",
   "execution_count": 1,
   "id": "69075fb5",
   "metadata": {
    "dotnet_interactive": {
     "language": "csharp"
    },
    "polyglot_notebook": {
     "kernelName": "csharp"
    }
   },
   "outputs": [],
   "source": [
    "import numpy as np\n",
    "import pandas as pd\n",
    "from sklearn.tree import DecisionTreeClassifier\n",
    "from sklearn.metrics import accuracy_score\n",
    "import random"
   ]
  },
  {
   "cell_type": "code",
   "execution_count": 2,
   "metadata": {
    "dotnet_interactive": {
     "language": "csharp"
    },
    "polyglot_notebook": {
     "kernelName": "csharp"
    }
   },
   "outputs": [],
   "source": [
    "df = pd.read_csv(\"vectorizedData.csv\")"
   ]
  },
  {
   "cell_type": "code",
   "execution_count": 3,
   "metadata": {
    "dotnet_interactive": {
     "language": "csharp"
    },
    "polyglot_notebook": {
     "kernelName": "csharp"
    }
   },
   "outputs": [],
   "source": [
    "class Generation():\n",
    "    \n",
    "    def __init__(self, population, sln):\n",
    "        self.population = population\n",
    "        self.sln = sln\n",
    "    \n",
    "    #returns sorted population of all solutions from highest score to lowest\n",
    "    def sortPop(self):\n",
    "        return dict(sorted(self.population.items(),key=lambda x:x[1], reverse=True))\n",
    "        \n",
    "    #Select parents for mutation and child forming\n",
    "    #we will pick the top X performering solutions\n",
    "    #we will match them in order of performance(ex: (1,2), (2,3), ... (n, n+1))\n",
    "    #returns a list o tuples representing the sln \n",
    "    def ParentSelection1(self, x):\n",
    "        parents =list(self.sortPop())\n",
    "        print(parents)\n",
    "        parents = parents[:x]\n",
    "        i=0\n",
    "        res = []\n",
    "        while i<x-1:\n",
    "            res.append((i,i+1))\n",
    "            i+=1\n",
    "        return res\n",
    "    \n",
    "    #similar to ParentSelection1, but uses the top performing solution as parent for all new children\n",
    "    #ex; (1,2),(1,3),...(1,n) \n",
    "    def ParentSelection2(self,x):\n",
    "        parents = self.sortPop()\n",
    "        parents = parents[:x]\n",
    "        i=0\n",
    "        res = []\n",
    "        while i<x-1:\n",
    "            res.append((0,i+1))\n",
    "            i+=1\n",
    "        return res\n",
    "\n",
    "    #Return next generation of children,array of genes\n",
    "    def ProducenewGen(self, parents):\n",
    "        newsln = []\n",
    "        for m,d in parents:\n",
    "            geneM = self.sln[m]\n",
    "            geneD = self.sln[d]\n",
    "            #perform single point crossover\n",
    "            child1,child2 = MultiplePointCrossoverFct(geneM,geneD, [250,500,750,1000])\n",
    "            newsln.extend([list(child1),list(child2)])\n",
    "        topPerf1,topPerf2 = list(self.sortPop())[0],list(self.sortPop())[1]\n",
    "        newsln.extend([self.sln[topPerf1],self.sln[topPerf2]])\n",
    "        return newsln\n",
    "    \n",
    "    #genetic mutation on children genes \n",
    "    #modify randomly 10 binary values in gene\n",
    "    #return new generation\n",
    "    def mutation(self):\n",
    "        nextSln = np.copy(self.sln)\n",
    "        for gene in nextSln:\n",
    "            for _ in range(10):\n",
    "                randomIndex = random.randint(0, len(gene)-1)  # Fixed indexing\n",
    "                gene[randomIndex] = 1 - gene[randomIndex]  # Flipping 0 to 1 and vice versa\n",
    "        return nextSln"
   ]
  },
  {
   "cell_type": "code",
   "execution_count": 4,
   "metadata": {
    "dotnet_interactive": {
     "language": "csharp"
    },
    "polyglot_notebook": {
     "kernelName": "csharp"
    }
   },
   "outputs": [],
   "source": [
    "def singlePointCrossoverFct(gene1,gene2,x):\n",
    "    newA = np.append(gene1[:x], gene2[x:])\n",
    "    newB = np.append(gene2[:x], gene1[x:])\n",
    "    return newA, newB"
   ]
  },
  {
   "cell_type": "code",
   "execution_count": 5,
   "id": "3ac742ea",
   "metadata": {},
   "outputs": [],
   "source": [
    "def MultiplePointCrossoverFct(gene1,gene2,points):\n",
    "    for x in points:\n",
    "        print(x)\n",
    "        newA = np.append(gene1[:x], gene2[x:])\n",
    "        newB = np.append(gene2[:x], gene1[x:])\n",
    "    return newA, newB"
   ]
  },
  {
   "cell_type": "code",
   "execution_count": 6,
   "metadata": {
    "dotnet_interactive": {
     "language": "csharp"
    },
    "polyglot_notebook": {
     "kernelName": "csharp"
    }
   },
   "outputs": [],
   "source": [
    "def splitData(em,tf=0.75): #tf = training fraction & em=embbeded dataframe\n",
    "    X = em.iloc[:,1:]\n",
    "    Xtrain = X[:int(tf*X.shape[0])]\n",
    "    Xtest = X[int(tf*X.shape[0]):] \n",
    "    Y = em.iloc[:,1]\n",
    "    Ytrain = Y[:int(tf*Y.shape[0])]\n",
    "    Ytest = Y[int(tf*Y.shape[0]):] \n",
    "    return Xtrain, Xtest, Ytrain, Ytest"
   ]
  },
  {
   "cell_type": "code",
   "execution_count": 7,
   "metadata": {
    "dotnet_interactive": {
     "language": "csharp"
    },
    "polyglot_notebook": {
     "kernelName": "csharp"
    }
   },
   "outputs": [],
   "source": [
    "#create genetic representation of sln, binary representation\n",
    "def generateGeneticSLN(df):\n",
    "    l = df.shape[1]-1\n",
    "    gene = []\n",
    "    for i in range(l):\n",
    "        gene.append(random.randint(0,1))\n",
    "    return gene"
   ]
  },
  {
   "cell_type": "code",
   "execution_count": 8,
   "metadata": {
    "dotnet_interactive": {
     "language": "csharp"
    },
    "polyglot_notebook": {
     "kernelName": "csharp"
    }
   },
   "outputs": [],
   "source": [
    "def generateDFSolution(gene,X_train, X_test):\n",
    "    sln_train= pd.DataFrame()\n",
    "    sln_test= pd.DataFrame()\n",
    "    for i in range(1,len(gene)):\n",
    "        curr = gene[i]\n",
    "        if curr!=0:\n",
    "            #select feature column and add in solution df\n",
    "            tr = X_train.iloc[:,i]\n",
    "            te = X_test.iloc[:,i]\n",
    "            sln_train = pd.concat([sln_train, tr], axis=1)\n",
    "            sln_test = pd.concat([sln_test, te], axis=1)\n",
    "            \n",
    "    return sln_test, sln_train"
   ]
  },
  {
   "cell_type": "code",
   "execution_count": 9,
   "metadata": {
    "dotnet_interactive": {
     "language": "csharp"
    },
    "polyglot_notebook": {
     "kernelName": "csharp"
    }
   },
   "outputs": [],
   "source": [
    "def genHeuristicValue(gene,X_train, X_test,Y_train,Y_Test):\n",
    "    sln_test, sln_train = generateDFSolution(gene,X_train, X_test)\n",
    "    clf = DecisionTreeClassifier(random_state=0)\n",
    "    clf.fit(sln_train, Y_train)\n",
    "    #testing set and get accuracy\n",
    "    y_pred = clf.predict(sln_test)\n",
    "    return accuracy_score(Y_Test, y_pred)"
   ]
  },
  {
   "cell_type": "code",
   "execution_count": 10,
   "metadata": {
    "dotnet_interactive": {
     "language": "csharp"
    },
    "polyglot_notebook": {
     "kernelName": "csharp"
    }
   },
   "outputs": [],
   "source": [
    "def initialPopulation(df, size):\n",
    "    Xtrain, Xtest, Ytrain, Ytest = splitData(df)\n",
    "    #we will generate a dictionary where each key value pair represents a sln and its heuristic value \n",
    "    #initialize our genetic algorithm\n",
    "    population = { }\n",
    "    sln = []\n",
    "    for i in range(size):\n",
    "        sln.append(generateGeneticSLN(df))\n",
    "        population[i] = genHeuristicValue(sln[i],Xtrain, Xtest, Ytrain, Ytest)\n",
    "        print(population)\n",
    "    return population, sln"
   ]
  },
  {
   "cell_type": "code",
   "execution_count": 11,
   "metadata": {
    "dotnet_interactive": {
     "language": "csharp"
    },
    "polyglot_notebook": {
     "kernelName": "csharp"
    }
   },
   "outputs": [
    {
     "name": "stdout",
     "output_type": "stream",
     "text": [
      "{0: 0.9440057430007178}\n",
      "{0: 0.9440057430007178, 1: 0.955491744436468}\n",
      "{0: 0.9440057430007178, 1: 0.955491744436468, 2: 0.9669777458722182}\n",
      "{0: 0.9440057430007178, 1: 0.955491744436468, 2: 0.9669777458722182, 3: 0.968413496051687}\n",
      "{0: 0.9440057430007178, 1: 0.955491744436468, 2: 0.9669777458722182, 3: 0.968413496051687, 4: 0.9583632447954056}\n",
      "{0: 0.9440057430007178, 1: 0.955491744436468, 2: 0.9669777458722182, 3: 0.968413496051687, 4: 0.9583632447954056, 5: 0.9519023689877961}\n",
      "{0: 0.9440057430007178, 1: 0.955491744436468, 2: 0.9669777458722182, 3: 0.968413496051687, 4: 0.9583632447954056, 5: 0.9519023689877961, 6: 0.9511844938980617}\n",
      "{0: 0.9440057430007178, 1: 0.955491744436468, 2: 0.9669777458722182, 3: 0.968413496051687, 4: 0.9583632447954056, 5: 0.9519023689877961, 6: 0.9511844938980617, 7: 0.955491744436468}\n",
      "{0: 0.9440057430007178, 1: 0.955491744436468, 2: 0.9669777458722182, 3: 0.968413496051687, 4: 0.9583632447954056, 5: 0.9519023689877961, 6: 0.9511844938980617, 7: 0.955491744436468, 8: 0.9605168700646087}\n",
      "{0: 0.9440057430007178, 1: 0.955491744436468, 2: 0.9669777458722182, 3: 0.968413496051687, 4: 0.9583632447954056, 5: 0.9519023689877961, 6: 0.9511844938980617, 7: 0.955491744436468, 8: 0.9605168700646087, 9: 0.9475951184493898}\n",
      "{0: 0.9440057430007178, 1: 0.955491744436468, 2: 0.9669777458722182, 3: 0.968413496051687, 4: 0.9583632447954056, 5: 0.9519023689877961, 6: 0.9511844938980617, 7: 0.955491744436468, 8: 0.9605168700646087, 9: 0.9475951184493898}\n"
     ]
    }
   ],
   "source": [
    "population,sln = initialPopulation(df, 10)\n",
    "gen0 = Generation(population,sln)\n",
    "print(gen0.population)"
   ]
  },
  {
   "cell_type": "code",
   "execution_count": 22,
   "metadata": {
    "dotnet_interactive": {
     "language": "csharp"
    },
    "polyglot_notebook": {
     "kernelName": "csharp"
    }
   },
   "outputs": [],
   "source": [
    "#perform genetic feature selection\n",
    "def geneticFeatureSelection(df, initPop_size, nbGens):\n",
    "    Xtrain, Xtest, Ytrain, Ytest = splitData(df)\n",
    "    \n",
    "    population,sln = initialPopulation(df, initPop_size)\n",
    "    #define initial generation\n",
    "    gen0 = Generation(population,sln)\n",
    "    tree = [gen0]\n",
    "    for i in range(nbGens):\n",
    "        gen = tree[i]\n",
    "        parents = gen.ParentSelection1(int(0.5*len(gen.sln)))\n",
    "        newSln = gen.ProducenewGen(parents)\n",
    "        newpop = {}\n",
    "        Xtrain, Xtest, Ytrain, Ytest = splitData(df)\n",
    "        for i in range(len(newSln)):\n",
    "                newpop[i] = genHeuristicValue(newSln[i],Xtrain, Xtest, Ytrain, Ytest)\n",
    "                print(newpop)\n",
    "        newgen = Generation(newpop,newSln)\n",
    "        tree.append(newgen)\n",
    "    return tree[-1].population\n",
    "                \n"
   ]
  },
  {
   "cell_type": "code",
   "execution_count": 27,
   "id": "fca5a474",
   "metadata": {},
   "outputs": [
    {
     "name": "stdout",
     "output_type": "stream",
     "text": [
      "{0: 0.949748743718593}\n",
      "{0: 0.949748743718593, 1: 0.9483129935391242}\n",
      "{0: 0.949748743718593, 1: 0.9483129935391242, 2: 0.95908111988514}\n",
      "{0: 0.949748743718593, 1: 0.9483129935391242, 2: 0.95908111988514, 3: 0.9511844938980617}\n",
      "{0: 0.949748743718593, 1: 0.9483129935391242, 2: 0.95908111988514, 3: 0.9511844938980617, 4: 0.9526202440775305}\n",
      "{0: 0.949748743718593, 1: 0.9483129935391242, 2: 0.95908111988514, 3: 0.9511844938980617, 4: 0.9526202440775305, 5: 0.955491744436468}\n",
      "{0: 0.949748743718593, 1: 0.9483129935391242, 2: 0.95908111988514, 3: 0.9511844938980617, 4: 0.9526202440775305, 5: 0.955491744436468, 6: 0.9676956209619526}\n",
      "{0: 0.949748743718593, 1: 0.9483129935391242, 2: 0.95908111988514, 3: 0.9511844938980617, 4: 0.9526202440775305, 5: 0.955491744436468, 6: 0.9676956209619526, 7: 0.9576453697056713}\n",
      "{0: 0.949748743718593, 1: 0.9483129935391242, 2: 0.95908111988514, 3: 0.9511844938980617, 4: 0.9526202440775305, 5: 0.955491744436468, 6: 0.9676956209619526, 7: 0.9576453697056713, 8: 0.9461593682699211}\n",
      "{0: 0.949748743718593, 1: 0.9483129935391242, 2: 0.95908111988514, 3: 0.9511844938980617, 4: 0.9526202440775305, 5: 0.955491744436468, 6: 0.9676956209619526, 7: 0.9576453697056713, 8: 0.9461593682699211, 9: 0.9655419956927495}\n"
     ]
    }
   ],
   "source": [
    "Xtrain, Xtest, Ytrain, Ytest = splitData(df)\n",
    "    \n",
    "population,sln = initialPopulation(df, 10)\n",
    "#define initial generation\n",
    "gen0 = Generation(population,sln)\n",
    "tree = [gen0]"
   ]
  },
  {
   "cell_type": "code",
   "execution_count": 28,
   "id": "c365dfb2",
   "metadata": {},
   "outputs": [
    {
     "name": "stdout",
     "output_type": "stream",
     "text": [
      "250\n",
      "500\n",
      "750\n",
      "1000\n",
      "250\n",
      "500\n",
      "750\n",
      "1000\n",
      "250\n",
      "500\n",
      "750\n",
      "1000\n",
      "250\n",
      "500\n",
      "750\n",
      "1000\n",
      "{0: 0.9583632447954056}\n",
      "{0: 0.9583632447954056, 1: 0.955491744436468}\n",
      "{0: 0.9583632447954056, 1: 0.955491744436468, 2: 0.9676956209619526}\n",
      "{0: 0.9583632447954056, 1: 0.955491744436468, 2: 0.9676956209619526, 3: 0.9533381191672649}\n",
      "{0: 0.9583632447954056, 1: 0.955491744436468, 2: 0.9676956209619526, 3: 0.9533381191672649, 4: 0.949748743718593}\n",
      "{0: 0.9583632447954056, 1: 0.955491744436468, 2: 0.9676956209619526, 3: 0.9533381191672649, 4: 0.949748743718593, 5: 0.968413496051687}\n",
      "{0: 0.9583632447954056, 1: 0.955491744436468, 2: 0.9676956209619526, 3: 0.9533381191672649, 4: 0.949748743718593, 5: 0.968413496051687, 6: 0.9533381191672649}\n",
      "{0: 0.9583632447954056, 1: 0.955491744436468, 2: 0.9676956209619526, 3: 0.9533381191672649, 4: 0.949748743718593, 5: 0.968413496051687, 6: 0.9533381191672649, 7: 0.9569274946159368}\n",
      "{0: 0.9583632447954056, 1: 0.955491744436468, 2: 0.9676956209619526, 3: 0.9533381191672649, 4: 0.949748743718593, 5: 0.968413496051687, 6: 0.9533381191672649, 7: 0.9569274946159368, 8: 0.9676956209619526}\n",
      "{0: 0.9583632447954056, 1: 0.955491744436468, 2: 0.9676956209619526, 3: 0.9533381191672649, 4: 0.949748743718593, 5: 0.968413496051687, 6: 0.9533381191672649, 7: 0.9569274946159368, 8: 0.9676956209619526, 9: 0.9655419956927495}\n",
      "250\n",
      "500\n",
      "750\n",
      "1000\n",
      "250\n",
      "500\n",
      "750\n",
      "1000\n",
      "250\n",
      "500\n",
      "750\n",
      "1000\n",
      "250\n",
      "500\n",
      "750\n",
      "1000\n",
      "{0: 0.949748743718593}\n",
      "{0: 0.949748743718593, 1: 0.9483129935391242}\n",
      "{0: 0.949748743718593, 1: 0.9483129935391242, 2: 0.9676956209619526}\n",
      "{0: 0.949748743718593, 1: 0.9483129935391242, 2: 0.9676956209619526, 3: 0.955491744436468}\n",
      "{0: 0.949748743718593, 1: 0.9483129935391242, 2: 0.9676956209619526, 3: 0.955491744436468, 4: 0.9483129935391242}\n",
      "{0: 0.949748743718593, 1: 0.9483129935391242, 2: 0.9676956209619526, 3: 0.955491744436468, 4: 0.9483129935391242, 5: 0.95908111988514}\n",
      "{0: 0.949748743718593, 1: 0.9483129935391242, 2: 0.9676956209619526, 3: 0.955491744436468, 4: 0.9483129935391242, 5: 0.95908111988514, 6: 0.949748743718593}\n",
      "{0: 0.949748743718593, 1: 0.9483129935391242, 2: 0.9676956209619526, 3: 0.955491744436468, 4: 0.9483129935391242, 5: 0.95908111988514, 6: 0.949748743718593, 7: 0.9533381191672649}\n",
      "{0: 0.949748743718593, 1: 0.9483129935391242, 2: 0.9676956209619526, 3: 0.955491744436468, 4: 0.9483129935391242, 5: 0.95908111988514, 6: 0.949748743718593, 7: 0.9533381191672649, 8: 0.968413496051687}\n",
      "{0: 0.949748743718593, 1: 0.9483129935391242, 2: 0.9676956209619526, 3: 0.955491744436468, 4: 0.9483129935391242, 5: 0.95908111988514, 6: 0.949748743718593, 7: 0.9533381191672649, 8: 0.968413496051687, 9: 0.9676956209619526}\n",
      "250\n",
      "500\n",
      "750\n",
      "1000\n",
      "250\n",
      "500\n",
      "750\n",
      "1000\n",
      "250\n",
      "500\n",
      "750\n",
      "1000\n",
      "250\n",
      "500\n",
      "750\n",
      "1000\n",
      "{0: 0.9583632447954056}\n",
      "{0: 0.9583632447954056, 1: 0.955491744436468}\n",
      "{0: 0.9583632447954056, 1: 0.955491744436468, 2: 0.9676956209619526}\n",
      "{0: 0.9583632447954056, 1: 0.955491744436468, 2: 0.9676956209619526, 3: 0.9483129935391242}\n",
      "{0: 0.9583632447954056, 1: 0.955491744436468, 2: 0.9676956209619526, 3: 0.9483129935391242, 4: 0.955491744436468}\n",
      "{0: 0.9583632447954056, 1: 0.955491744436468, 2: 0.9676956209619526, 3: 0.9483129935391242, 4: 0.955491744436468, 5: 0.9676956209619526}\n",
      "{0: 0.9583632447954056, 1: 0.955491744436468, 2: 0.9676956209619526, 3: 0.9483129935391242, 4: 0.955491744436468, 5: 0.9676956209619526, 6: 0.9483129935391242}\n",
      "{0: 0.9583632447954056, 1: 0.955491744436468, 2: 0.9676956209619526, 3: 0.9483129935391242, 4: 0.955491744436468, 5: 0.9676956209619526, 6: 0.9483129935391242, 7: 0.955491744436468}\n",
      "{0: 0.9583632447954056, 1: 0.955491744436468, 2: 0.9676956209619526, 3: 0.9483129935391242, 4: 0.955491744436468, 5: 0.9676956209619526, 6: 0.9483129935391242, 7: 0.955491744436468, 8: 0.968413496051687}\n",
      "{0: 0.9583632447954056, 1: 0.955491744436468, 2: 0.9676956209619526, 3: 0.9483129935391242, 4: 0.955491744436468, 5: 0.9676956209619526, 6: 0.9483129935391242, 7: 0.955491744436468, 8: 0.968413496051687, 9: 0.9676956209619526}\n",
      "250\n",
      "500\n",
      "750\n",
      "1000\n",
      "250\n",
      "500\n",
      "750\n",
      "1000\n",
      "250\n",
      "500\n",
      "750\n",
      "1000\n",
      "250\n",
      "500\n",
      "750\n",
      "1000\n",
      "{0: 0.949748743718593}\n",
      "{0: 0.949748743718593, 1: 0.9483129935391242}\n",
      "{0: 0.949748743718593, 1: 0.9483129935391242, 2: 0.9676956209619526}\n",
      "{0: 0.949748743718593, 1: 0.9483129935391242, 2: 0.9676956209619526, 3: 0.955491744436468}\n",
      "{0: 0.949748743718593, 1: 0.9483129935391242, 2: 0.9676956209619526, 3: 0.955491744436468, 4: 0.9483129935391242}\n",
      "{0: 0.949748743718593, 1: 0.9483129935391242, 2: 0.9676956209619526, 3: 0.955491744436468, 4: 0.9483129935391242, 5: 0.9676956209619526}\n",
      "{0: 0.949748743718593, 1: 0.9483129935391242, 2: 0.9676956209619526, 3: 0.955491744436468, 4: 0.9483129935391242, 5: 0.9676956209619526, 6: 0.955491744436468}\n",
      "{0: 0.949748743718593, 1: 0.9483129935391242, 2: 0.9676956209619526, 3: 0.955491744436468, 4: 0.9483129935391242, 5: 0.9676956209619526, 6: 0.955491744436468, 7: 0.9483129935391242}\n",
      "{0: 0.949748743718593, 1: 0.9483129935391242, 2: 0.9676956209619526, 3: 0.955491744436468, 4: 0.9483129935391242, 5: 0.9676956209619526, 6: 0.955491744436468, 7: 0.9483129935391242, 8: 0.968413496051687}\n",
      "{0: 0.949748743718593, 1: 0.9483129935391242, 2: 0.9676956209619526, 3: 0.955491744436468, 4: 0.9483129935391242, 5: 0.9676956209619526, 6: 0.955491744436468, 7: 0.9483129935391242, 8: 0.968413496051687, 9: 0.9676956209619526}\n",
      "250\n",
      "500\n",
      "750\n",
      "1000\n",
      "250\n",
      "500\n",
      "750\n",
      "1000\n",
      "250\n",
      "500\n",
      "750\n",
      "1000\n",
      "250\n",
      "500\n",
      "750\n",
      "1000\n",
      "{0: 0.9583632447954056}\n",
      "{0: 0.9583632447954056, 1: 0.955491744436468}\n",
      "{0: 0.9583632447954056, 1: 0.955491744436468, 2: 0.9676956209619526}\n",
      "{0: 0.9583632447954056, 1: 0.955491744436468, 2: 0.9676956209619526, 3: 0.9483129935391242}\n",
      "{0: 0.9583632447954056, 1: 0.955491744436468, 2: 0.9676956209619526, 3: 0.9483129935391242, 4: 0.955491744436468}\n",
      "{0: 0.9583632447954056, 1: 0.955491744436468, 2: 0.9676956209619526, 3: 0.9483129935391242, 4: 0.955491744436468, 5: 0.9676956209619526}\n",
      "{0: 0.9583632447954056, 1: 0.955491744436468, 2: 0.9676956209619526, 3: 0.9483129935391242, 4: 0.955491744436468, 5: 0.9676956209619526, 6: 0.9483129935391242}\n",
      "{0: 0.9583632447954056, 1: 0.955491744436468, 2: 0.9676956209619526, 3: 0.9483129935391242, 4: 0.955491744436468, 5: 0.9676956209619526, 6: 0.9483129935391242, 7: 0.955491744436468}\n",
      "{0: 0.9583632447954056, 1: 0.955491744436468, 2: 0.9676956209619526, 3: 0.9483129935391242, 4: 0.955491744436468, 5: 0.9676956209619526, 6: 0.9483129935391242, 7: 0.955491744436468, 8: 0.968413496051687}\n",
      "{0: 0.9583632447954056, 1: 0.955491744436468, 2: 0.9676956209619526, 3: 0.9483129935391242, 4: 0.955491744436468, 5: 0.9676956209619526, 6: 0.9483129935391242, 7: 0.955491744436468, 8: 0.968413496051687, 9: 0.9676956209619526}\n"
     ]
    }
   ],
   "source": [
    "for i in range(5):\n",
    "    gen = tree[i]\n",
    "    parents = gen.ParentSelection1(int(0.5*len(gen.sln)))\n",
    "    newSln = gen.ProducenewGen(parents)\n",
    "    newpop = {}\n",
    "    Xtrain, Xtest, Ytrain, Ytest = splitData(df)\n",
    "    for i in range(len(newSln)):\n",
    "            newpop[i] = genHeuristicValue(newSln[i],Xtrain, Xtest, Ytrain, Ytest)\n",
    "            print(newpop)\n",
    "    newgen = Generation(newpop,newSln)\n",
    "    tree.append(newgen)"
   ]
  },
  {
   "cell_type": "code",
   "execution_count": null,
   "id": "37dd4696",
   "metadata": {},
   "outputs": [],
   "source": []
  }
 ],
 "metadata": {
  "kernelspec": {
   "display_name": "MLenv",
   "language": "python",
   "name": "python3"
  },
  "language_info": {
   "codemirror_mode": {
    "name": "ipython",
    "version": 3
   },
   "file_extension": ".py",
   "mimetype": "text/x-python",
   "name": "python",
   "nbconvert_exporter": "python",
   "pygments_lexer": "ipython3",
   "version": "3.9.13"
  },
  "polyglot_notebook": {
   "kernelInfo": {
    "defaultKernelName": "csharp",
    "items": [
     {
      "aliases": [],
      "name": "csharp"
     }
    ]
   }
  }
 },
 "nbformat": 4,
 "nbformat_minor": 5
}
